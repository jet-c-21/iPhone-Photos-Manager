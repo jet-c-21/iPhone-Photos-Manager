{
 "cells": [
  {
   "cell_type": "code",
   "id": "initial_id",
   "metadata": {
    "collapsed": true,
    "ExecuteTime": {
     "end_time": "2025-03-04T17:02:01.113431Z",
     "start_time": "2025-03-04T17:02:01.106370Z"
    }
   },
   "source": [
    "# >>> Dynamic Changing `sys.path` in Runtime by Adding Project Directory to Path >>>\n",
    "import pathlib\n",
    "import sys\n",
    "\n",
    "THIS_FILE_PARENT_DIR = pathlib.Path().resolve()\n",
    "PROJECT_DIR = THIS_FILE_PARENT_DIR.parent.parent\n",
    "sys.path.append(str(PROJECT_DIR))\n",
    "print(f\"[*INFO*] - append directory to path: {PROJECT_DIR}\")\n",
    "# <<< Dynamic Changing `sys.path` in Runtime by Adding Project Directory to Path <<<"
   ],
   "outputs": [
    {
     "name": "stdout",
     "output_type": "stream",
     "text": [
      "[*INFO*] - append directory to path: /home/puff/my_home/side_project/iPhone-Photos-Manager\n"
     ]
    }
   ],
   "execution_count": 5
  },
  {
   "metadata": {
    "ExecuteTime": {
     "end_time": "2025-03-04T17:02:01.614603Z",
     "start_time": "2025-03-04T17:02:01.612295Z"
    }
   },
   "cell_type": "code",
   "source": "from iphone_photos_manager import PhotosSqliteClient",
   "id": "1402d6e48d03facb",
   "outputs": [],
   "execution_count": 6
  },
  {
   "metadata": {
    "ExecuteTime": {
     "end_time": "2025-03-04T17:02:02.224471Z",
     "start_time": "2025-03-04T17:02:02.219442Z"
    }
   },
   "cell_type": "code",
   "source": [
    "IFUSE_MOUNT_DIR = pathlib.Path(\"~/my_home/ifuse_iphone_link\").expanduser()\n",
    "PHOTOS_DB_FILE = IFUSE_MOUNT_DIR / \"PhotoData\" / \"Photos.sqlite\""
   ],
   "id": "334d55d7a0302e2",
   "outputs": [],
   "execution_count": 7
  },
  {
   "metadata": {
    "ExecuteTime": {
     "end_time": "2025-03-04T17:02:03.239299Z",
     "start_time": "2025-03-04T17:02:03.225761Z"
    }
   },
   "cell_type": "code",
   "source": "psc = PhotosSqliteClient(PHOTOS_DB_FILE)",
   "id": "3c25604526dd13a5",
   "outputs": [],
   "execution_count": 8
  },
  {
   "metadata": {
    "ExecuteTime": {
     "end_time": "2025-03-04T17:02:04.660818Z",
     "start_time": "2025-03-04T17:02:04.360637Z"
    }
   },
   "cell_type": "code",
   "source": "albums_df = psc.get_albums_df()",
   "id": "321853b280285f70",
   "outputs": [],
   "execution_count": 9
  },
  {
   "metadata": {
    "ExecuteTime": {
     "end_time": "2025-03-04T17:02:42.309923Z",
     "start_time": "2025-03-04T17:02:42.293662Z"
    }
   },
   "cell_type": "code",
   "source": [
    "u_album_df = albums_df[albums_df[\"ZKIND\"] == 2]\n",
    "u_album_df"
   ],
   "id": "3de14e7e270a6d2c",
   "outputs": [
    {
     "data": {
      "text/plain": [
       "     Z_PK                                 ZUUID                      ZTITLE  \\\n",
       "47     48  056B13CA-492A-48EB-93B7-8D39FE94C9E0                    WhatsApp   \n",
       "49     50  CDAE4C77-7179-456A-92C6-3A668CEC467B  Pic for Pro Self-Marketing   \n",
       "50     51  6C0F13E4-1DF4-4A31-A396-9F78E038EF4D                     花蓮 兩天一夜   \n",
       "51     52  CAD0EDEF-25C9-497D-A2A3-9087D790C7B3                        長版大衣   \n",
       "52     53  411863B8-70D3-4C71-81EB-4893EFBD2075                  Basketball   \n",
       "..    ...                                   ...                         ...   \n",
       "330   331  11E0C03C-CD09-4119-88B6-9744EDB6DA03                     交友軟體 趣事   \n",
       "331   332  7D39C9CF-6DBC-4935-8CF0-FE1039041B3D                 WG fake abs   \n",
       "333   334  8C0A8428-FCDD-4A50-A1B6-FCBB916B6254                        Pecu   \n",
       "335   336  31F513EA-0A53-452E-A6AF-11082AF7D277                        戶外活動   \n",
       "367   370  a47daf29-6998-489a-b9bb-eb046b21a346             22.05到25.03 未整理   \n",
       "\n",
       "     ZKIND  ZPARENTFOLDER  Z_FOK_PARENTFOLDER  ZCREATIONDATE    ZSTARTDATE  \\\n",
       "47       2              1             80896.0   7.627641e+08  7.234434e+08   \n",
       "49       2              1             55296.0   7.627641e+08  6.153580e+08   \n",
       "50       2            209              4096.0   7.627641e+08  6.595818e+08   \n",
       "51       2            253              2048.0   7.627641e+08  6.622854e+08   \n",
       "52       2              1             46080.0   7.627641e+08  6.035276e+08   \n",
       "..     ...            ...                 ...            ...           ...   \n",
       "330      2             95             10240.0   7.627641e+08  5.903364e+08   \n",
       "331      2            261              9216.0   7.627641e+08  7.141780e+08   \n",
       "333      2              1             63488.0   7.627641e+08  6.000643e+08   \n",
       "335      2            261             18432.0   7.627641e+08  6.728745e+08   \n",
       "367      2            328             18431.0   7.627679e+08  6.731578e+08   \n",
       "\n",
       "         ZENDDATE  ZTRASHEDSTATE ZTRASHEDDATE  \n",
       "47   7.234434e+08              0         None  \n",
       "49   6.153581e+08              0         None  \n",
       "50   6.596988e+08              0         None  \n",
       "51   6.624784e+08              0         None  \n",
       "52   6.602382e+08              0         None  \n",
       "..            ...            ...          ...  \n",
       "330  5.923192e+08              0         None  \n",
       "331  7.141929e+08              0         None  \n",
       "333  6.117664e+08              0         None  \n",
       "335  6.772626e+08              0         None  \n",
       "367  7.606151e+08              0         None  \n",
       "\n",
       "[156 rows x 11 columns]"
      ],
      "text/html": [
       "<div>\n",
       "<style scoped>\n",
       "    .dataframe tbody tr th:only-of-type {\n",
       "        vertical-align: middle;\n",
       "    }\n",
       "\n",
       "    .dataframe tbody tr th {\n",
       "        vertical-align: top;\n",
       "    }\n",
       "\n",
       "    .dataframe thead th {\n",
       "        text-align: right;\n",
       "    }\n",
       "</style>\n",
       "<table border=\"1\" class=\"dataframe\">\n",
       "  <thead>\n",
       "    <tr style=\"text-align: right;\">\n",
       "      <th></th>\n",
       "      <th>Z_PK</th>\n",
       "      <th>ZUUID</th>\n",
       "      <th>ZTITLE</th>\n",
       "      <th>ZKIND</th>\n",
       "      <th>ZPARENTFOLDER</th>\n",
       "      <th>Z_FOK_PARENTFOLDER</th>\n",
       "      <th>ZCREATIONDATE</th>\n",
       "      <th>ZSTARTDATE</th>\n",
       "      <th>ZENDDATE</th>\n",
       "      <th>ZTRASHEDSTATE</th>\n",
       "      <th>ZTRASHEDDATE</th>\n",
       "    </tr>\n",
       "  </thead>\n",
       "  <tbody>\n",
       "    <tr>\n",
       "      <th>47</th>\n",
       "      <td>48</td>\n",
       "      <td>056B13CA-492A-48EB-93B7-8D39FE94C9E0</td>\n",
       "      <td>WhatsApp</td>\n",
       "      <td>2</td>\n",
       "      <td>1</td>\n",
       "      <td>80896.0</td>\n",
       "      <td>7.627641e+08</td>\n",
       "      <td>7.234434e+08</td>\n",
       "      <td>7.234434e+08</td>\n",
       "      <td>0</td>\n",
       "      <td>None</td>\n",
       "    </tr>\n",
       "    <tr>\n",
       "      <th>49</th>\n",
       "      <td>50</td>\n",
       "      <td>CDAE4C77-7179-456A-92C6-3A668CEC467B</td>\n",
       "      <td>Pic for Pro Self-Marketing</td>\n",
       "      <td>2</td>\n",
       "      <td>1</td>\n",
       "      <td>55296.0</td>\n",
       "      <td>7.627641e+08</td>\n",
       "      <td>6.153580e+08</td>\n",
       "      <td>6.153581e+08</td>\n",
       "      <td>0</td>\n",
       "      <td>None</td>\n",
       "    </tr>\n",
       "    <tr>\n",
       "      <th>50</th>\n",
       "      <td>51</td>\n",
       "      <td>6C0F13E4-1DF4-4A31-A396-9F78E038EF4D</td>\n",
       "      <td>花蓮 兩天一夜</td>\n",
       "      <td>2</td>\n",
       "      <td>209</td>\n",
       "      <td>4096.0</td>\n",
       "      <td>7.627641e+08</td>\n",
       "      <td>6.595818e+08</td>\n",
       "      <td>6.596988e+08</td>\n",
       "      <td>0</td>\n",
       "      <td>None</td>\n",
       "    </tr>\n",
       "    <tr>\n",
       "      <th>51</th>\n",
       "      <td>52</td>\n",
       "      <td>CAD0EDEF-25C9-497D-A2A3-9087D790C7B3</td>\n",
       "      <td>長版大衣</td>\n",
       "      <td>2</td>\n",
       "      <td>253</td>\n",
       "      <td>2048.0</td>\n",
       "      <td>7.627641e+08</td>\n",
       "      <td>6.622854e+08</td>\n",
       "      <td>6.624784e+08</td>\n",
       "      <td>0</td>\n",
       "      <td>None</td>\n",
       "    </tr>\n",
       "    <tr>\n",
       "      <th>52</th>\n",
       "      <td>53</td>\n",
       "      <td>411863B8-70D3-4C71-81EB-4893EFBD2075</td>\n",
       "      <td>Basketball</td>\n",
       "      <td>2</td>\n",
       "      <td>1</td>\n",
       "      <td>46080.0</td>\n",
       "      <td>7.627641e+08</td>\n",
       "      <td>6.035276e+08</td>\n",
       "      <td>6.602382e+08</td>\n",
       "      <td>0</td>\n",
       "      <td>None</td>\n",
       "    </tr>\n",
       "    <tr>\n",
       "      <th>...</th>\n",
       "      <td>...</td>\n",
       "      <td>...</td>\n",
       "      <td>...</td>\n",
       "      <td>...</td>\n",
       "      <td>...</td>\n",
       "      <td>...</td>\n",
       "      <td>...</td>\n",
       "      <td>...</td>\n",
       "      <td>...</td>\n",
       "      <td>...</td>\n",
       "      <td>...</td>\n",
       "    </tr>\n",
       "    <tr>\n",
       "      <th>330</th>\n",
       "      <td>331</td>\n",
       "      <td>11E0C03C-CD09-4119-88B6-9744EDB6DA03</td>\n",
       "      <td>交友軟體 趣事</td>\n",
       "      <td>2</td>\n",
       "      <td>95</td>\n",
       "      <td>10240.0</td>\n",
       "      <td>7.627641e+08</td>\n",
       "      <td>5.903364e+08</td>\n",
       "      <td>5.923192e+08</td>\n",
       "      <td>0</td>\n",
       "      <td>None</td>\n",
       "    </tr>\n",
       "    <tr>\n",
       "      <th>331</th>\n",
       "      <td>332</td>\n",
       "      <td>7D39C9CF-6DBC-4935-8CF0-FE1039041B3D</td>\n",
       "      <td>WG fake abs</td>\n",
       "      <td>2</td>\n",
       "      <td>261</td>\n",
       "      <td>9216.0</td>\n",
       "      <td>7.627641e+08</td>\n",
       "      <td>7.141780e+08</td>\n",
       "      <td>7.141929e+08</td>\n",
       "      <td>0</td>\n",
       "      <td>None</td>\n",
       "    </tr>\n",
       "    <tr>\n",
       "      <th>333</th>\n",
       "      <td>334</td>\n",
       "      <td>8C0A8428-FCDD-4A50-A1B6-FCBB916B6254</td>\n",
       "      <td>Pecu</td>\n",
       "      <td>2</td>\n",
       "      <td>1</td>\n",
       "      <td>63488.0</td>\n",
       "      <td>7.627641e+08</td>\n",
       "      <td>6.000643e+08</td>\n",
       "      <td>6.117664e+08</td>\n",
       "      <td>0</td>\n",
       "      <td>None</td>\n",
       "    </tr>\n",
       "    <tr>\n",
       "      <th>335</th>\n",
       "      <td>336</td>\n",
       "      <td>31F513EA-0A53-452E-A6AF-11082AF7D277</td>\n",
       "      <td>戶外活動</td>\n",
       "      <td>2</td>\n",
       "      <td>261</td>\n",
       "      <td>18432.0</td>\n",
       "      <td>7.627641e+08</td>\n",
       "      <td>6.728745e+08</td>\n",
       "      <td>6.772626e+08</td>\n",
       "      <td>0</td>\n",
       "      <td>None</td>\n",
       "    </tr>\n",
       "    <tr>\n",
       "      <th>367</th>\n",
       "      <td>370</td>\n",
       "      <td>a47daf29-6998-489a-b9bb-eb046b21a346</td>\n",
       "      <td>22.05到25.03 未整理</td>\n",
       "      <td>2</td>\n",
       "      <td>328</td>\n",
       "      <td>18431.0</td>\n",
       "      <td>7.627679e+08</td>\n",
       "      <td>6.731578e+08</td>\n",
       "      <td>7.606151e+08</td>\n",
       "      <td>0</td>\n",
       "      <td>None</td>\n",
       "    </tr>\n",
       "  </tbody>\n",
       "</table>\n",
       "<p>156 rows × 11 columns</p>\n",
       "</div>"
      ]
     },
     "execution_count": 11,
     "metadata": {},
     "output_type": "execute_result"
    }
   ],
   "execution_count": 11
  },
  {
   "metadata": {},
   "cell_type": "code",
   "outputs": [],
   "execution_count": null,
   "source": "",
   "id": "14e0bb91719ab414"
  },
  {
   "metadata": {
    "ExecuteTime": {
     "end_time": "2025-03-04T17:02:12.586467Z",
     "start_time": "2025-03-04T17:02:12.579054Z"
    }
   },
   "cell_type": "code",
   "source": [
    "root_photo_folder_df = albums_df[(albums_df[\"ZKIND\"] == 4000) & (albums_df[\"ZPARENTFOLDER\"] == 1)].copy()\n",
    "albums_df = albums_df[~albums_df[\"Z_PK\"].isin(root_photo_folder_df[\"Z_PK\"])]"
   ],
   "id": "f7c4fe8e03923899",
   "outputs": [],
   "execution_count": 10
  },
  {
   "metadata": {},
   "cell_type": "code",
   "source": "root_photo_folder_df",
   "id": "ae52e97bf38c601f",
   "outputs": [],
   "execution_count": null
  },
  {
   "metadata": {},
   "cell_type": "code",
   "source": "albums_df",
   "id": "d28e81d46ccc9a1",
   "outputs": [],
   "execution_count": null
  },
  {
   "metadata": {},
   "cell_type": "code",
   "source": "",
   "id": "1aae52e425127969",
   "outputs": [],
   "execution_count": null
  }
 ],
 "metadata": {
  "kernelspec": {
   "display_name": "Python 3",
   "language": "python",
   "name": "python3"
  },
  "language_info": {
   "codemirror_mode": {
    "name": "ipython",
    "version": 2
   },
   "file_extension": ".py",
   "mimetype": "text/x-python",
   "name": "python",
   "nbconvert_exporter": "python",
   "pygments_lexer": "ipython2",
   "version": "2.7.6"
  }
 },
 "nbformat": 4,
 "nbformat_minor": 5
}
