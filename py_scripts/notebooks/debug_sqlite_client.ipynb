{
 "cells": [
  {
   "cell_type": "code",
   "id": "initial_id",
   "metadata": {
    "collapsed": true,
    "ExecuteTime": {
     "end_time": "2025-03-05T03:18:49.389883Z",
     "start_time": "2025-03-05T03:18:49.386022Z"
    }
   },
   "source": [
    "# >>> Dynamic Changing `sys.path` in Runtime by Adding Project Directory to Path >>>\n",
    "import pathlib\n",
    "import sys\n",
    "\n",
    "THIS_FILE_PARENT_DIR = pathlib.Path().resolve()\n",
    "PROJECT_DIR = THIS_FILE_PARENT_DIR.parent.parent\n",
    "sys.path.append(str(PROJECT_DIR))\n",
    "print(f\"[*INFO*] - append directory to path: {PROJECT_DIR}\")\n",
    "# <<< Dynamic Changing `sys.path` in Runtime by Adding Project Directory to Path <<<"
   ],
   "outputs": [
    {
     "name": "stdout",
     "output_type": "stream",
     "text": [
      "[*INFO*] - append directory to path: /home/puff/my_home/side_project/iPhone-Photos-Manager\n"
     ]
    }
   ],
   "execution_count": 1
  },
  {
   "metadata": {
    "ExecuteTime": {
     "end_time": "2025-03-05T03:18:49.712385Z",
     "start_time": "2025-03-05T03:18:49.440641Z"
    }
   },
   "cell_type": "code",
   "source": "from iphone_photos_manager import PhotosSqliteClient",
   "id": "1402d6e48d03facb",
   "outputs": [],
   "execution_count": 2
  },
  {
   "metadata": {
    "ExecuteTime": {
     "end_time": "2025-03-05T03:18:49.778181Z",
     "start_time": "2025-03-05T03:18:49.775087Z"
    }
   },
   "cell_type": "code",
   "source": [
    "IFUSE_MOUNT_DIR = pathlib.Path(\"~/my_home/ifuse_iphone_link\").expanduser()\n",
    "PHOTOS_DB_FILE = IFUSE_MOUNT_DIR / \"PhotoData\" / \"Photos.sqlite\"\n",
    "\n",
    "TEMP_CSV_DIR = PROJECT_DIR / \"temp_csv\"\n",
    "TEMP_CSV_DIR.mkdir(parents=True, exist_ok=True)"
   ],
   "id": "334d55d7a0302e2",
   "outputs": [],
   "execution_count": 3
  },
  {
   "metadata": {
    "ExecuteTime": {
     "end_time": "2025-03-05T03:18:49.825610Z",
     "start_time": "2025-03-05T03:18:49.812669Z"
    }
   },
   "cell_type": "code",
   "source": "psc = PhotosSqliteClient(PHOTOS_DB_FILE)",
   "id": "3c25604526dd13a5",
   "outputs": [],
   "execution_count": 4
  },
  {
   "metadata": {
    "ExecuteTime": {
     "end_time": "2025-03-05T03:18:49.927645Z",
     "start_time": "2025-03-05T03:18:49.924841Z"
    }
   },
   "cell_type": "code",
   "source": [
    "# _df = psc.get_df_from_table_name(\"Z_28ASSETS\")\n",
    "# _df"
   ],
   "id": "7eb1986d9915b7dd",
   "outputs": [],
   "execution_count": 5
  },
  {
   "metadata": {
    "ExecuteTime": {
     "end_time": "2025-03-05T03:18:49.977384Z",
     "start_time": "2025-03-05T03:18:49.974709Z"
    }
   },
   "cell_type": "code",
   "source": "# psc.get_col_name_ls_of_table(\"ZASSET\")",
   "id": "19329552a3dae37b",
   "outputs": [],
   "execution_count": 6
  },
  {
   "metadata": {
    "ExecuteTime": {
     "end_time": "2025-03-05T03:18:51.188766Z",
     "start_time": "2025-03-05T03:18:50.023393Z"
    }
   },
   "cell_type": "code",
   "source": [
    "folders_and_albums = psc.get_user_created_folders_and_albums()\n",
    "for album in folders_and_albums[\"albums\"]:\n",
    "    album.view_assets_info()"
   ],
   "id": "3de14e7e270a6d2c",
   "outputs": [
    {
     "name": "stdout",
     "output_type": "stream",
     "text": [
      "[*INFO*] - WhatsApp assets info:\n",
      "🖼️ IMG_4586.JPG : DCIM/104APPLE/IMG_4586.JPG\n",
      "\n",
      "[*INFO*] - Pic for Pro Self-Marketing assets info:\n",
      "🖼️ IMG_0276.JPG : DCIM/100APPLE/IMG_0276.JPG\n",
      "🖼️ IMG_0275.JPG : DCIM/100APPLE/IMG_0275.JPG\n",
      "\n",
      "[*INFO*] - Basketball assets info:\n",
      "🎞️ IMG_0453.MOV : DCIM/100APPLE/IMG_0453.MOV\n",
      "🎞️ IMG_0452.MOV : DCIM/100APPLE/IMG_0452.MOV\n",
      "🎞️ IMG_0451.MP4 : DCIM/100APPLE/IMG_0451.MP4\n",
      "\n",
      "[*INFO*] - 手綁帶 assets info:\n",
      "🎞️ IMG_2881.MP4 : DCIM/102APPLE/IMG_2881.MP4\n",
      "🎞️ IMG_2880.MOV : DCIM/102APPLE/IMG_2880.MOV\n",
      "\n",
      "[*INFO*] - 📖 Timestamp has 0 media asset\n",
      "\n",
      "[*INFO*] - 📖 雪芙 直播 has 0 media asset\n",
      "\n",
      "[*INFO*] - 📖 CamScanner has 0 media asset\n",
      "\n",
      "[*INFO*] - 📖 FaceApp has 0 media asset\n",
      "\n",
      "[*INFO*] - iCareFone assets info:\n",
      "🖼️ IMG_5890.JPG : DCIM/105APPLE/IMG_5890.JPG\n",
      "\n",
      "[*INFO*] - Mac Wallpaper assets info:\n",
      "🖼️ IMG_1868.JPG : DCIM/101APPLE/IMG_1868.JPG\n",
      "🖼️ IMG_1867.JPG : DCIM/101APPLE/IMG_1867.JPG\n",
      "\n",
      "[*INFO*] - Dazz assets info:\n",
      "🖼️ IMG_2843.JPG : DCIM/102APPLE/IMG_2843.JPG\n",
      "🖼️ IMG_2842.JPG : DCIM/102APPLE/IMG_2842.JPG\n",
      "\n",
      "[*INFO*] - Kada Cam assets info:\n",
      "🖼️ IMG_2835.JPG : DCIM/102APPLE/IMG_2835.JPG\n",
      "\n",
      "[*INFO*] - Bio assets info:\n",
      "🖼️ IMG_0450.JPEG : DCIM/100APPLE/IMG_0450.JPEG\n",
      "🖼️ IMG_0449.JPEG : DCIM/100APPLE/IMG_0449.JPEG\n",
      "🖼️ IMG_0448.JPEG : DCIM/100APPLE/IMG_0448.JPEG\n",
      "🖼️ IMG_0447.JPEG : DCIM/100APPLE/IMG_0447.JPEG\n",
      "🖼️ IMG_0446.JPEG : DCIM/100APPLE/IMG_0446.JPEG\n",
      "🖼️ IMG_0445.JPEG : DCIM/100APPLE/IMG_0445.JPEG\n",
      "🖼️ IMG_0444.JPEG : DCIM/100APPLE/IMG_0444.JPEG\n",
      "🖼️ IMG_0443.JPEG : DCIM/100APPLE/IMG_0443.JPEG\n",
      "🖼️ IMG_0442.JPEG : DCIM/100APPLE/IMG_0442.JPEG\n",
      "🖼️ IMG_0441.JPEG : DCIM/100APPLE/IMG_0441.JPEG\n",
      "🖼️ IMG_0440.JPEG : DCIM/100APPLE/IMG_0440.JPEG\n",
      "\n",
      "[*INFO*] - 𝕏 assets info:\n",
      "🖼️ IMG_5123.JPG : DCIM/105APPLE/IMG_5123.JPG\n",
      "\n",
      "[*INFO*] - CALLA assets info:\n",
      "🖼️ IMG_2841.PNG : DCIM/102APPLE/IMG_2841.PNG\n",
      "🖼️ IMG_2840.JPG : DCIM/102APPLE/IMG_2840.JPG\n",
      "🖼️ IMG_2839.JPG : DCIM/102APPLE/IMG_2839.JPG\n",
      "🖼️ IMG_2838.PNG : DCIM/102APPLE/IMG_2838.PNG\n",
      "🖼️ IMG_2837.JPG : DCIM/102APPLE/IMG_2837.JPG\n",
      "🖼️ IMG_2836.JPG : DCIM/102APPLE/IMG_2836.JPG\n",
      "\n",
      "[*INFO*] - 📖 針灸 has 0 media asset\n",
      "\n",
      "[*INFO*] - 📖 Timestamp Camera has 0 media asset\n",
      "\n",
      "[*INFO*] - 📖 D&M PSPt has 0 media asset\n",
      "\n",
      "[*INFO*] - squarepic assets info:\n",
      "🖼️ IMG_2833.PNG : DCIM/102APPLE/IMG_2833.PNG\n",
      "🖼️ IMG_2832.PNG : DCIM/102APPLE/IMG_2832.PNG\n",
      "🖼️ IMG_2831.PNG : DCIM/102APPLE/IMG_2831.PNG\n",
      "🖼️ IMG_2830.PNG : DCIM/102APPLE/IMG_2830.PNG\n",
      "🖼️ IMG_2829.PNG : DCIM/102APPLE/IMG_2829.PNG\n",
      "🖼️ IMG_2828.PNG : DCIM/102APPLE/IMG_2828.PNG\n",
      "🖼️ IMG_2827.PNG : DCIM/102APPLE/IMG_2827.PNG\n",
      "🖼️ IMG_2826.PNG : DCIM/102APPLE/IMG_2826.PNG\n",
      "\n",
      "[*INFO*] - My eyes assets info:\n",
      "🖼️ IMG_2637.HEIC : DCIM/102APPLE/IMG_2637.HEIC\n",
      "🖼️ IMG_2636.HEIC : DCIM/102APPLE/IMG_2636.HEIC\n",
      "🖼️ IMG_2634.HEIC : DCIM/102APPLE/IMG_2634.HEIC\n",
      "\n",
      "[*INFO*] - 📖 OMI has 0 media asset\n",
      "\n",
      "[*INFO*] - 📖 Twitter has 0 media asset\n",
      "\n",
      "[*INFO*] - Instagram assets info:\n",
      "🎞️ IMG_4347.MOV : DCIM/104APPLE/IMG_4347.MOV\n",
      "🎞️ IMG_4346.MOV : DCIM/104APPLE/IMG_4346.MOV\n",
      "🎞️ IMG_4336.MOV : DCIM/104APPLE/IMG_4336.MOV\n",
      "🎞️ IMG_4335.MOV : DCIM/104APPLE/IMG_4335.MOV\n",
      "🖼️ IMG_4320.JPG : DCIM/104APPLE/IMG_4320.JPG\n",
      "🖼️ IMG_4319.JPG : DCIM/104APPLE/IMG_4319.JPG\n",
      "🖼️ IMG_4318.JPG : DCIM/104APPLE/IMG_4318.JPG\n",
      "🖼️ IMG_4276.JPG : DCIM/104APPLE/IMG_4276.JPG\n",
      "🎞️ IMG_4223.MOV : DCIM/104APPLE/IMG_4223.MOV\n",
      "🎞️ IMG_4217.MOV : DCIM/104APPLE/IMG_4217.MOV\n",
      "🎞️ IMG_4216.MOV : DCIM/104APPLE/IMG_4216.MOV\n",
      "🎞️ IMG_4215.MOV : DCIM/104APPLE/IMG_4215.MOV\n",
      "🎞️ IMG_4214.MOV : DCIM/104APPLE/IMG_4214.MOV\n",
      "🎞️ IMG_4213.MOV : DCIM/104APPLE/IMG_4213.MOV\n",
      "🎞️ IMG_4212.MOV : DCIM/104APPLE/IMG_4212.MOV\n",
      "🖼️ IMG_4211.JPG : DCIM/104APPLE/IMG_4211.JPG\n",
      "🖼️ IMG_4192.JPG : DCIM/104APPLE/IMG_4192.JPG\n",
      "🖼️ IMG_4191.JPG : DCIM/104APPLE/IMG_4191.JPG\n",
      "🎞️ IMG_4190.MOV : DCIM/104APPLE/IMG_4190.MOV\n",
      "🖼️ IMG_4169.JPG : DCIM/104APPLE/IMG_4169.JPG\n",
      "🎞️ IMG_4154.MOV : DCIM/104APPLE/IMG_4154.MOV\n",
      "🎞️ IMG_4153.MOV : DCIM/104APPLE/IMG_4153.MOV\n",
      "🎞️ IMG_4152.MOV : DCIM/104APPLE/IMG_4152.MOV\n",
      "🖼️ IMG_4151.JPG : DCIM/104APPLE/IMG_4151.JPG\n",
      "🖼️ IMG_4150.JPG : DCIM/104APPLE/IMG_4150.JPG\n",
      "🎞️ IMG_4121.MOV : DCIM/104APPLE/IMG_4121.MOV\n",
      "🎞️ IMG_4100.MOV : DCIM/104APPLE/IMG_4100.MOV\n",
      "🎞️ IMG_4095.MOV : DCIM/104APPLE/IMG_4095.MOV\n",
      "🖼️ IMG_4094.JPG : DCIM/104APPLE/IMG_4094.JPG\n",
      "🎞️ IMG_4037.MOV : DCIM/104APPLE/IMG_4037.MOV\n",
      "🖼️ IMG_4021.JPG : DCIM/104APPLE/IMG_4021.JPG\n",
      "🎞️ IMG_4014.MOV : DCIM/104APPLE/IMG_4014.MOV\n",
      "🎞️ IMG_3957.MOV : DCIM/103APPLE/IMG_3957.MOV\n",
      "🎞️ IMG_3956.MOV : DCIM/103APPLE/IMG_3956.MOV\n",
      "🖼️ IMG_3946.JPG : DCIM/103APPLE/IMG_3946.JPG\n",
      "🖼️ IMG_3945.JPG : DCIM/103APPLE/IMG_3945.JPG\n",
      "🖼️ IMG_3943.JPG : DCIM/103APPLE/IMG_3943.JPG\n",
      "🖼️ IMG_3941.JPG : DCIM/103APPLE/IMG_3941.JPG\n",
      "🖼️ IMG_3939.JPG : DCIM/103APPLE/IMG_3939.JPG\n",
      "🖼️ IMG_3938.JPG : DCIM/103APPLE/IMG_3938.JPG\n",
      "🎞️ IMG_3934.MOV : DCIM/103APPLE/IMG_3934.MOV\n",
      "🎞️ IMG_3933.MOV : DCIM/103APPLE/IMG_3933.MOV\n",
      "🎞️ IMG_3930.MOV : DCIM/103APPLE/IMG_3930.MOV\n",
      "🎞️ IMG_3929.MOV : DCIM/103APPLE/IMG_3929.MOV\n",
      "🖼️ IMG_3928.JPG : DCIM/103APPLE/IMG_3928.JPG\n",
      "🖼️ IMG_3927.JPG : DCIM/103APPLE/IMG_3927.JPG\n",
      "🖼️ IMG_3926.JPG : DCIM/103APPLE/IMG_3926.JPG\n",
      "🖼️ IMG_3859.JPG : DCIM/103APPLE/IMG_3859.JPG\n",
      "🖼️ IMG_3858.JPG : DCIM/103APPLE/IMG_3858.JPG\n",
      "🖼️ IMG_3832.JPG : DCIM/103APPLE/IMG_3832.JPG\n",
      "🖼️ IMG_3561.JPG : DCIM/103APPLE/IMG_3561.JPG\n",
      "🎞️ IMG_3179.MOV : DCIM/103APPLE/IMG_3179.MOV\n",
      "🎞️ IMG_3104.MOV : DCIM/103APPLE/IMG_3104.MOV\n",
      "🎞️ IMG_2885.MOV : DCIM/102APPLE/IMG_2885.MOV\n",
      "🖼️ IMG_2825.JPG : DCIM/102APPLE/IMG_2825.JPG\n",
      "🖼️ IMG_2824.JPG : DCIM/102APPLE/IMG_2824.JPG\n",
      "🖼️ IMG_2823.JPG : DCIM/102APPLE/IMG_2823.JPG\n",
      "🖼️ IMG_2822.JPG : DCIM/102APPLE/IMG_2822.JPG\n",
      "🖼️ IMG_2821.JPG : DCIM/102APPLE/IMG_2821.JPG\n",
      "🖼️ IMG_2820.JPG : DCIM/102APPLE/IMG_2820.JPG\n",
      "🖼️ IMG_2819.JPG : DCIM/102APPLE/IMG_2819.JPG\n",
      "🖼️ IMG_2818.JPG : DCIM/102APPLE/IMG_2818.JPG\n",
      "🖼️ IMG_2817.JPG : DCIM/102APPLE/IMG_2817.JPG\n",
      "🖼️ IMG_2816.JPG : DCIM/102APPLE/IMG_2816.JPG\n",
      "🖼️ IMG_2815.JPG : DCIM/102APPLE/IMG_2815.JPG\n",
      "🖼️ IMG_2814.JPG : DCIM/102APPLE/IMG_2814.JPG\n",
      "🖼️ IMG_2813.JPG : DCIM/102APPLE/IMG_2813.JPG\n",
      "🖼️ IMG_2812.JPG : DCIM/102APPLE/IMG_2812.JPG\n",
      "🖼️ IMG_2811.JPG : DCIM/102APPLE/IMG_2811.JPG\n",
      "🖼️ IMG_2810.JPG : DCIM/102APPLE/IMG_2810.JPG\n",
      "🖼️ IMG_2809.JPG : DCIM/102APPLE/IMG_2809.JPG\n",
      "🖼️ IMG_2808.JPG : DCIM/102APPLE/IMG_2808.JPG\n",
      "🖼️ IMG_2807.JPG : DCIM/102APPLE/IMG_2807.JPG\n",
      "🖼️ IMG_2806.JPG : DCIM/102APPLE/IMG_2806.JPG\n",
      "🖼️ IMG_2805.JPG : DCIM/102APPLE/IMG_2805.JPG\n",
      "🖼️ IMG_2804.JPG : DCIM/102APPLE/IMG_2804.JPG\n",
      "🖼️ IMG_2803.JPG : DCIM/102APPLE/IMG_2803.JPG\n",
      "🖼️ IMG_2802.JPG : DCIM/102APPLE/IMG_2802.JPG\n",
      "🖼️ IMG_2801.JPG : DCIM/102APPLE/IMG_2801.JPG\n",
      "🖼️ IMG_2800.JPG : DCIM/102APPLE/IMG_2800.JPG\n",
      "🖼️ IMG_2799.JPG : DCIM/102APPLE/IMG_2799.JPG\n",
      "🖼️ IMG_2798.JPG : DCIM/102APPLE/IMG_2798.JPG\n",
      "🖼️ IMG_2797.JPG : DCIM/102APPLE/IMG_2797.JPG\n",
      "🖼️ IMG_2796.JPG : DCIM/102APPLE/IMG_2796.JPG\n",
      "🖼️ IMG_2795.JPG : DCIM/102APPLE/IMG_2795.JPG\n",
      "🖼️ IMG_2794.JPG : DCIM/102APPLE/IMG_2794.JPG\n",
      "🖼️ IMG_2786.JPG : DCIM/102APPLE/IMG_2786.JPG\n",
      "🖼️ IMG_2785.JPG : DCIM/102APPLE/IMG_2785.JPG\n",
      "🖼️ IMG_2784.JPG : DCIM/102APPLE/IMG_2784.JPG\n",
      "🖼️ IMG_2783.JPG : DCIM/102APPLE/IMG_2783.JPG\n",
      "🖼️ IMG_2781.JPG : DCIM/102APPLE/IMG_2781.JPG\n",
      "🖼️ IMG_2780.JPG : DCIM/102APPLE/IMG_2780.JPG\n",
      "🖼️ IMG_2779.JPG : DCIM/102APPLE/IMG_2779.JPG\n",
      "🖼️ IMG_2778.JPG : DCIM/102APPLE/IMG_2778.JPG\n",
      "🖼️ IMG_2777.JPG : DCIM/102APPLE/IMG_2777.JPG\n",
      "🖼️ IMG_2776.JPG : DCIM/102APPLE/IMG_2776.JPG\n",
      "🖼️ IMG_2775.JPG : DCIM/102APPLE/IMG_2775.JPG\n",
      "🖼️ IMG_2773.JPG : DCIM/102APPLE/IMG_2773.JPG\n",
      "🖼️ IMG_2772.JPG : DCIM/102APPLE/IMG_2772.JPG\n",
      "🖼️ IMG_2771.JPG : DCIM/102APPLE/IMG_2771.JPG\n",
      "🖼️ IMG_2770.JPG : DCIM/102APPLE/IMG_2770.JPG\n",
      "🖼️ IMG_2769.JPG : DCIM/102APPLE/IMG_2769.JPG\n",
      "🖼️ IMG_2768.JPG : DCIM/102APPLE/IMG_2768.JPG\n",
      "🖼️ IMG_2767.JPG : DCIM/102APPLE/IMG_2767.JPG\n",
      "🖼️ IMG_2766.JPG : DCIM/102APPLE/IMG_2766.JPG\n",
      "🖼️ IMG_2765.JPG : DCIM/102APPLE/IMG_2765.JPG\n",
      "🖼️ IMG_2764.JPG : DCIM/102APPLE/IMG_2764.JPG\n",
      "🎞️ IMG_2555.MOV : DCIM/102APPLE/IMG_2555.MOV\n",
      "🖼️ IMG_2527.JPG : DCIM/102APPLE/IMG_2527.JPG\n",
      "🖼️ IMG_2526.JPG : DCIM/102APPLE/IMG_2526.JPG\n",
      "🖼️ IMG_2488.JPG : DCIM/102APPLE/IMG_2488.JPG\n",
      "🎞️ IMG_2474.MOV : DCIM/102APPLE/IMG_2474.MOV\n",
      "🎞️ IMG_2473.MOV : DCIM/102APPLE/IMG_2473.MOV\n",
      "🎞️ IMG_2472.MOV : DCIM/102APPLE/IMG_2472.MOV\n",
      "🖼️ IMG_2411.JPG : DCIM/102APPLE/IMG_2411.JPG\n",
      "🎞️ IMG_2352.MOV : DCIM/102APPLE/IMG_2352.MOV\n",
      "🎞️ IMG_2347.MOV : DCIM/102APPLE/IMG_2347.MOV\n",
      "🖼️ IMG_2343.JPG : DCIM/102APPLE/IMG_2343.JPG\n",
      "🖼️ IMG_2338.JPG : DCIM/102APPLE/IMG_2338.JPG\n",
      "🖼️ IMG_2257.JPG : DCIM/102APPLE/IMG_2257.JPG\n",
      "🖼️ IMG_2175.JPG : DCIM/102APPLE/IMG_2175.JPG\n",
      "🎞️ IMG_2012.MOV : DCIM/102APPLE/IMG_2012.MOV\n",
      "🎞️ IMG_2005.MOV : DCIM/102APPLE/IMG_2005.MOV\n",
      "🎞️ IMG_1909.MOV : DCIM/101APPLE/IMG_1909.MOV\n",
      "\n",
      "[*INFO*] - Nxxx assets info:\n",
      "🖼️ IMG_3974.HEIC : DCIM/103APPLE/IMG_3974.HEIC\n",
      "🖼️ IMG_3973.HEIC : DCIM/103APPLE/IMG_3973.HEIC\n",
      "🖼️ IMG_3972.HEIC : DCIM/103APPLE/IMG_3972.HEIC\n",
      "🖼️ IMG_3971.HEIC : DCIM/103APPLE/IMG_3971.HEIC\n",
      "🖼️ IMG_3970.HEIC : DCIM/103APPLE/IMG_3970.HEIC\n",
      "🖼️ IMG_3969.HEIC : DCIM/103APPLE/IMG_3969.HEIC\n",
      "🖼️ IMG_3968.HEIC : DCIM/103APPLE/IMG_3968.HEIC\n",
      "🖼️ IMG_3967.HEIC : DCIM/103APPLE/IMG_3967.HEIC\n",
      "🖼️ IMG_3966.HEIC : DCIM/103APPLE/IMG_3966.HEIC\n",
      "🖼️ IMG_3965.HEIC : DCIM/103APPLE/IMG_3965.HEIC\n",
      "🖼️ IMG_3963.HEIC : DCIM/103APPLE/IMG_3963.HEIC\n",
      "🖼️ IMG_3960.HEIC : DCIM/103APPLE/IMG_3960.HEIC\n",
      "🖼️ IMG_3959.HEIC : DCIM/103APPLE/IMG_3959.HEIC\n",
      "🖼️ IMG_3958.HEIC : DCIM/103APPLE/IMG_3958.HEIC\n",
      "🎞️ IMG_3957.MOV : DCIM/103APPLE/IMG_3957.MOV\n",
      "🎞️ IMG_3956.MOV : DCIM/103APPLE/IMG_3956.MOV\n",
      "🖼️ IMG_3955.HEIC : DCIM/103APPLE/IMG_3955.HEIC\n",
      "🖼️ IMG_3954.HEIC : DCIM/103APPLE/IMG_3954.HEIC\n",
      "🖼️ IMG_3953.HEIC : DCIM/103APPLE/IMG_3953.HEIC\n",
      "🖼️ IMG_3740.HEIC : DCIM/103APPLE/IMG_3740.HEIC\n",
      "\n",
      "[*INFO*] - 📖 眼睛手術資料 has 0 media asset\n",
      "\n",
      "[*INFO*] - Pinterest assets info:\n",
      "🖼️ IMG_2053.JPG : DCIM/102APPLE/IMG_2053.JPG\n",
      "🖼️ IMG_2052.JPG : DCIM/102APPLE/IMG_2052.JPG\n",
      "\n",
      "[*INFO*] - Fit assets info:\n",
      "🖼️ IMG_5317.HEIC : DCIM/105APPLE/IMG_5317.HEIC\n",
      "🖼️ IMG_0436.JPEG : DCIM/100APPLE/IMG_0436.JPEG\n",
      "🎞️ IMG_0435.MOV : DCIM/100APPLE/IMG_0435.MOV\n",
      "🎞️ IMG_0434.MOV : DCIM/100APPLE/IMG_0434.MOV\n",
      "🖼️ IMG_0433.JPG : DCIM/100APPLE/IMG_0433.JPG\n",
      "🖼️ IMG_0432.JPG : DCIM/100APPLE/IMG_0432.JPG\n",
      "🎞️ IMG_0431.MOV : DCIM/100APPLE/IMG_0431.MOV\n",
      "🎞️ IMG_0430.MP4 : DCIM/100APPLE/IMG_0430.MP4\n",
      "🖼️ IMG_0429.PNG : DCIM/100APPLE/IMG_0429.PNG\n",
      "🖼️ IMG_0428.JPEG : DCIM/100APPLE/IMG_0428.JPEG\n",
      "🖼️ IMG_0427.JPEG : DCIM/100APPLE/IMG_0427.JPEG\n",
      "\n",
      "[*INFO*] - Painting assets info:\n",
      "🖼️ IMG_0283.JPEG : DCIM/100APPLE/IMG_0283.JPEG\n",
      "🖼️ IMG_0282.JPG : DCIM/100APPLE/IMG_0282.JPG\n",
      "🖼️ IMG_0281.JPG : DCIM/100APPLE/IMG_0281.JPG\n",
      "🖼️ IMG_0280.JPG : DCIM/100APPLE/IMG_0280.JPG\n",
      "🖼️ IMG_0279.JPG : DCIM/100APPLE/IMG_0279.JPG\n",
      "🖼️ IMG_0278.JPG : DCIM/100APPLE/IMG_0278.JPG\n",
      "\n",
      "[*INFO*] - TW Job assets info:\n",
      "🎞️ IMG_0051.MOV : DCIM/100APPLE/IMG_0051.MOV\n",
      "\n",
      "[*INFO*] - Phone Wallpaper assets info:\n",
      "🖼️ IMG_5539.JPG : DCIM/105APPLE/IMG_5539.JPG\n",
      "🖼️ IMG_3766.JPG : DCIM/103APPLE/IMG_3766.JPG\n",
      "🖼️ IMG_2399.JPG : DCIM/102APPLE/IMG_2399.JPG\n",
      "🖼️ IMG_2398.JPG : DCIM/102APPLE/IMG_2398.JPG\n",
      "🖼️ IMG_2397.JPG : DCIM/102APPLE/IMG_2397.JPG\n",
      "🖼️ IMG_2396.JPG : DCIM/102APPLE/IMG_2396.JPG\n",
      "🖼️ IMG_2395.JPG : DCIM/102APPLE/IMG_2395.JPG\n",
      "🖼️ IMG_2394.JPG : DCIM/102APPLE/IMG_2394.JPG\n",
      "🖼️ IMG_2393.JPG : DCIM/102APPLE/IMG_2393.JPG\n",
      "🖼️ IMG_2392.JPG : DCIM/102APPLE/IMG_2392.JPG\n",
      "🖼️ IMG_2391.JPG : DCIM/102APPLE/IMG_2391.JPG\n",
      "🖼️ IMG_2390.JPG : DCIM/102APPLE/IMG_2390.JPG\n",
      "🖼️ IMG_2389.JPG : DCIM/102APPLE/IMG_2389.JPG\n",
      "🖼️ IMG_2388.JPG : DCIM/102APPLE/IMG_2388.JPG\n",
      "🖼️ IMG_2387.JPG : DCIM/102APPLE/IMG_2387.JPG\n",
      "🖼️ IMG_2386.JPG : DCIM/102APPLE/IMG_2386.JPG\n",
      "🖼️ IMG_2385.JPG : DCIM/102APPLE/IMG_2385.JPG\n",
      "🖼️ IMG_2384.JPG : DCIM/102APPLE/IMG_2384.JPG\n",
      "🖼️ IMG_2383.JPG : DCIM/102APPLE/IMG_2383.JPG\n",
      "🖼️ IMG_2382.JPG : DCIM/102APPLE/IMG_2382.JPG\n",
      "🖼️ IMG_2381.JPG : DCIM/102APPLE/IMG_2381.JPG\n",
      "🖼️ IMG_2380.JPG : DCIM/102APPLE/IMG_2380.JPG\n",
      "🖼️ IMG_2379.JPG : DCIM/102APPLE/IMG_2379.JPG\n",
      "🖼️ IMG_2378.JPG : DCIM/102APPLE/IMG_2378.JPG\n",
      "🖼️ IMG_2377.JPG : DCIM/102APPLE/IMG_2377.JPG\n",
      "🖼️ IMG_2376.JPG : DCIM/102APPLE/IMG_2376.JPG\n",
      "🖼️ IMG_2375.JPG : DCIM/102APPLE/IMG_2375.JPG\n",
      "🖼️ IMG_2236.JPG : DCIM/102APPLE/IMG_2236.JPG\n",
      "🖼️ IMG_2235.JPG : DCIM/102APPLE/IMG_2235.JPG\n",
      "🖼️ IMG_2233.JPG : DCIM/102APPLE/IMG_2233.JPG\n",
      "🖼️ IMG_2232.JPG : DCIM/102APPLE/IMG_2232.JPG\n",
      "🖼️ IMG_2048.PNG : DCIM/102APPLE/IMG_2048.PNG\n",
      "🖼️ IMG_2047.JPG : DCIM/102APPLE/IMG_2047.JPG\n",
      "🖼️ IMG_2046.JPG : DCIM/102APPLE/IMG_2046.JPG\n",
      "🖼️ IMG_2045.JPG : DCIM/102APPLE/IMG_2045.JPG\n",
      "🖼️ IMG_2044.JPG : DCIM/102APPLE/IMG_2044.JPG\n",
      "🖼️ IMG_1869.JPG : DCIM/101APPLE/IMG_1869.JPG\n",
      "🖼️ IMG_0277.JPG : DCIM/100APPLE/IMG_0277.JPG\n",
      "\n",
      "[*INFO*] - 烘爐地詩籤 assets info:\n",
      "🖼️ IMG_0050.JPEG : DCIM/100APPLE/IMG_0050.JPEG\n",
      "🖼️ IMG_0049.JPEG : DCIM/100APPLE/IMG_0049.JPEG\n",
      "🖼️ IMG_0048.JPEG : DCIM/100APPLE/IMG_0048.JPEG\n",
      "\n",
      "[*INFO*] - Art with AI assets info:\n",
      "🎞️ IMG_0461.MP4 : DCIM/100APPLE/IMG_0461.MP4\n",
      "🎞️ IMG_0460.MP4 : DCIM/100APPLE/IMG_0460.MP4\n",
      "🎞️ IMG_0459.MP4 : DCIM/100APPLE/IMG_0459.MP4\n",
      "🎞️ IMG_0458.MP4 : DCIM/100APPLE/IMG_0458.MP4\n",
      "🎞️ IMG_0457.MP4 : DCIM/100APPLE/IMG_0457.MP4\n",
      "🎞️ IMG_0456.MP4 : DCIM/100APPLE/IMG_0456.MP4\n",
      "🎞️ IMG_0455.MP4 : DCIM/100APPLE/IMG_0455.MP4\n",
      "🎞️ IMG_0454.MP4 : DCIM/100APPLE/IMG_0454.MP4\n",
      "\n",
      "[*INFO*] - 📖 Adobe Scan Exports has 0 media asset\n",
      "\n",
      "[*INFO*] - PhotoGrid assets info:\n",
      "🖼️ IMG_4321.JPG : DCIM/104APPLE/IMG_4321.JPG\n",
      "\n",
      "[*INFO*] - 📖 Swingvy has 0 media asset\n",
      "\n",
      "[*INFO*] - 📖 BeautyCam has 0 media asset\n",
      "\n",
      "[*INFO*] - 📖 雷射過敏 has 0 media asset\n",
      "\n",
      "[*INFO*] - 📖 temp has 0 media asset\n",
      "\n",
      "[*INFO*] - Pecu assets info:\n",
      "🖼️ IMG_0003.JPG : DCIM/100APPLE/IMG_0003.JPG\n",
      "🖼️ IMG_0002.PNG : DCIM/100APPLE/IMG_0002.PNG\n",
      "🖼️ IMG_0001.PNG : DCIM/100APPLE/IMG_0001.PNG\n",
      "\n"
     ]
    }
   ],
   "execution_count": 7
  },
  {
   "metadata": {
    "ExecuteTime": {
     "end_time": "2025-03-05T03:18:51.247182Z",
     "start_time": "2025-03-05T03:18:51.233928Z"
    }
   },
   "cell_type": "code",
   "source": [
    "# assets_df = psc.get_assets_df()\n",
    "# assets_df[\"ZUNIFORMTYPEIDENTIFIER\"].unique()"
   ],
   "id": "eda2d0fed71def4f",
   "outputs": [],
   "execution_count": 8
  },
  {
   "metadata": {
    "ExecuteTime": {
     "end_time": "2025-03-05T03:18:51.400517Z",
     "start_time": "2025-03-05T03:18:51.290824Z"
    }
   },
   "cell_type": "code",
   "source": [
    "# asset_df = psc.get_df_from_table_name(\"ZASSET\")\n",
    "# asset_df_csv_path = TEMP_CSV_DIR / \"asset-data.csv\"\n",
    "# asset_df.to_csv(asset_df_csv_path, index=False)  # Save as CSV file"
   ],
   "id": "14e0bb91719ab414",
   "outputs": [],
   "execution_count": 9
  },
  {
   "metadata": {
    "ExecuteTime": {
     "end_time": "2025-03-05T03:18:51.445873Z",
     "start_time": "2025-03-05T03:18:51.407710Z"
    }
   },
   "cell_type": "code",
   "source": "# asset_df.sample(30)",
   "id": "f7c4fe8e03923899",
   "outputs": [],
   "execution_count": 10
  },
  {
   "metadata": {
    "ExecuteTime": {
     "end_time": "2025-03-05T03:18:51.454454Z",
     "start_time": "2025-03-05T03:18:51.452526Z"
    }
   },
   "cell_type": "code",
   "source": "",
   "id": "ae52e97bf38c601f",
   "outputs": [],
   "execution_count": null
  },
  {
   "metadata": {
    "ExecuteTime": {
     "end_time": "2025-03-05T03:18:51.502309Z",
     "start_time": "2025-03-05T03:18:51.500055Z"
    }
   },
   "cell_type": "code",
   "source": "",
   "id": "d28e81d46ccc9a1",
   "outputs": [],
   "execution_count": null
  },
  {
   "metadata": {
    "ExecuteTime": {
     "end_time": "2025-03-05T03:18:51.544148Z",
     "start_time": "2025-03-05T03:18:51.542084Z"
    }
   },
   "cell_type": "code",
   "source": "",
   "id": "1aae52e425127969",
   "outputs": [],
   "execution_count": null
  }
 ],
 "metadata": {
  "kernelspec": {
   "display_name": "Python 3",
   "language": "python",
   "name": "python3"
  },
  "language_info": {
   "codemirror_mode": {
    "name": "ipython",
    "version": 2
   },
   "file_extension": ".py",
   "mimetype": "text/x-python",
   "name": "python",
   "nbconvert_exporter": "python",
   "pygments_lexer": "ipython2",
   "version": "2.7.6"
  }
 },
 "nbformat": 4,
 "nbformat_minor": 5
}
