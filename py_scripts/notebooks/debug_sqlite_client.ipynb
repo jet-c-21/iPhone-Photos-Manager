{
 "cells": [
  {
   "cell_type": "code",
   "id": "initial_id",
   "metadata": {
    "collapsed": true,
    "ExecuteTime": {
     "end_time": "2025-03-04T18:36:50.028334Z",
     "start_time": "2025-03-04T18:36:50.024801Z"
    }
   },
   "source": [
    "# >>> Dynamic Changing `sys.path` in Runtime by Adding Project Directory to Path >>>\n",
    "import pathlib\n",
    "import sys\n",
    "\n",
    "THIS_FILE_PARENT_DIR = pathlib.Path().resolve()\n",
    "PROJECT_DIR = THIS_FILE_PARENT_DIR.parent.parent\n",
    "sys.path.append(str(PROJECT_DIR))\n",
    "print(f\"[*INFO*] - append directory to path: {PROJECT_DIR}\")\n",
    "# <<< Dynamic Changing `sys.path` in Runtime by Adding Project Directory to Path <<<"
   ],
   "outputs": [
    {
     "name": "stdout",
     "output_type": "stream",
     "text": [
      "[*INFO*] - append directory to path: /home/puff/my_home/side_project/iPhone-Photos-Manager\n"
     ]
    }
   ],
   "execution_count": 14
  },
  {
   "metadata": {
    "ExecuteTime": {
     "end_time": "2025-03-04T18:36:51.793502Z",
     "start_time": "2025-03-04T18:36:50.128870Z"
    }
   },
   "cell_type": "code",
   "source": "from iphone_photos_manager import PhotosSqliteClient",
   "id": "1402d6e48d03facb",
   "outputs": [],
   "execution_count": 15
  },
  {
   "metadata": {
    "ExecuteTime": {
     "end_time": "2025-03-04T18:36:52.962951Z",
     "start_time": "2025-03-04T18:36:51.805358Z"
    }
   },
   "cell_type": "code",
   "source": [
    "IFUSE_MOUNT_DIR = pathlib.Path(\"~/my_home/ifuse_iphone_link\").expanduser()\n",
    "PHOTOS_DB_FILE = IFUSE_MOUNT_DIR / \"PhotoData\" / \"Photos.sqlite\"\n",
    "\n",
    "TEMP_CSV_DIR = PROJECT_DIR / \"temp_csv\"\n",
    "TEMP_CSV_DIR.mkdir(parents=True, exist_ok=True)"
   ],
   "id": "334d55d7a0302e2",
   "outputs": [],
   "execution_count": 16
  },
  {
   "metadata": {
    "ExecuteTime": {
     "end_time": "2025-03-04T18:36:54.028728Z",
     "start_time": "2025-03-04T18:36:52.973671Z"
    }
   },
   "cell_type": "code",
   "source": "psc = PhotosSqliteClient(PHOTOS_DB_FILE)",
   "id": "3c25604526dd13a5",
   "outputs": [],
   "execution_count": 17
  },
  {
   "metadata": {
    "ExecuteTime": {
     "end_time": "2025-03-04T18:36:55.324035Z",
     "start_time": "2025-03-04T18:36:54.039482Z"
    }
   },
   "cell_type": "code",
   "source": [
    "col_ls = psc.get_col_name_ls_of_table(\"Z_28ASSETS\")\n",
    "col_ls"
   ],
   "id": "3de14e7e270a6d2c",
   "outputs": [
    {
     "data": {
      "text/plain": [
       "['Z_28ALBUMS', 'Z_3ASSETS', 'Z_FOK_3ASSETS']"
      ]
     },
     "execution_count": 18,
     "metadata": {},
     "output_type": "execute_result"
    }
   ],
   "execution_count": 18
  },
  {
   "metadata": {
    "ExecuteTime": {
     "end_time": "2025-03-04T18:36:56.951750Z",
     "start_time": "2025-03-04T18:36:55.394942Z"
    }
   },
   "cell_type": "code",
   "source": [
    "asset_df = psc.get_df_from_table_name(\"ZASSET\")\n",
    "asset_df_csv_path = TEMP_CSV_DIR / \"asset-data.csv\"\n",
    "asset_df.to_csv(asset_df_csv_path, index=False)  # Save as CSV file"
   ],
   "id": "14e0bb91719ab414",
   "outputs": [],
   "execution_count": 19
  },
  {
   "metadata": {
    "ExecuteTime": {
     "end_time": "2025-03-04T18:36:56.973383Z",
     "start_time": "2025-03-04T18:36:56.970784Z"
    }
   },
   "cell_type": "code",
   "source": "",
   "id": "f7c4fe8e03923899",
   "outputs": [],
   "execution_count": null
  },
  {
   "metadata": {
    "ExecuteTime": {
     "end_time": "2025-03-04T18:36:57.016721Z",
     "start_time": "2025-03-04T18:36:57.014948Z"
    }
   },
   "cell_type": "code",
   "source": "",
   "id": "ae52e97bf38c601f",
   "outputs": [],
   "execution_count": null
  },
  {
   "metadata": {
    "ExecuteTime": {
     "end_time": "2025-03-04T18:36:57.072482Z",
     "start_time": "2025-03-04T18:36:57.070438Z"
    }
   },
   "cell_type": "code",
   "source": "",
   "id": "d28e81d46ccc9a1",
   "outputs": [],
   "execution_count": null
  },
  {
   "metadata": {
    "ExecuteTime": {
     "end_time": "2025-03-04T18:36:57.113329Z",
     "start_time": "2025-03-04T18:36:57.110716Z"
    }
   },
   "cell_type": "code",
   "source": "",
   "id": "1aae52e425127969",
   "outputs": [],
   "execution_count": null
  }
 ],
 "metadata": {
  "kernelspec": {
   "display_name": "Python 3",
   "language": "python",
   "name": "python3"
  },
  "language_info": {
   "codemirror_mode": {
    "name": "ipython",
    "version": 2
   },
   "file_extension": ".py",
   "mimetype": "text/x-python",
   "name": "python",
   "nbconvert_exporter": "python",
   "pygments_lexer": "ipython2",
   "version": "2.7.6"
  }
 },
 "nbformat": 4,
 "nbformat_minor": 5
}
